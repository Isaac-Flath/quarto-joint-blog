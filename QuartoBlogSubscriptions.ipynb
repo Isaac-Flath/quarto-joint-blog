{
 "cells": [
  {
   "cell_type": "raw",
   "id": "09ebc85e-acc2-482b-8ee3-401f3a2d5d2b",
   "metadata": {},
   "source": [
    "---\n",
    "title: \"Adding Subscriptions to a Quarto Blog\"\n",
    "author: \"Isaac Flath\"\n",
    "date: \"2022-12-03\"\n",
    "description: \"How to add subscriptions to a quarto blog\"\n",
    "categories: [Quarto]\n",
    "image: \"../_TopicImages/APL.jpg\"\n",
    "draft: true\n",
    "---"
   ]
  },
  {
   "cell_type": "markdown",
   "id": "3545dfe4-1e58-444d-a98e-bc84bd35b611",
   "metadata": {},
   "source": [
    "# Introduction\n",
    "\n",
    "We are writing this blog post to give a few options for adding email subscriptions to blog pages built in quarto in a step by step tutorial.  The [quarto documentation](https://quarto.org/docs/websites/website-blog.html#subscriptions) covers the Quarto part, but does not include steps not related to Quarto with setting up the subscriber list or third party account.  This post is intended to be a step-by-step guide **that fills in the gaps from the [quarto documentation](https://quarto.org/docs/websites/website-blog.html).**\n",
    "\n",
    "There are many options for setting this up.  Among them:\n",
    "\n",
    "+ MailChimp: Mailchimp is mentioned in the quarto documentation briefly, but we have chose not to cover Mailchimp as it seems that they are working on deprecating the RSS email feed functionality that is necessary.\n",
    "+ MailerLite: We believe this is a strong alternative to MailChimp.  Easy to set up and easy to use.\n"
   ]
  },
  {
   "cell_type": "markdown",
   "id": "c051c6d0-8b9f-454c-849a-a51f647d6276",
   "metadata": {},
   "source": [
    "# MailerLite"
   ]
  },
  {
   "cell_type": "markdown",
   "id": "294f7962-2ba2-4bee-ab82-c75e6b61d353",
   "metadata": {},
   "source": [
    "The first thing we need to do is create a MailerLite Campaign.  That is what will actually send the email.\n",
    "\n",
    "\n",
    ":::{.callout-note}\n",
    "\n",
    "## MailerLite Campaign Setup\n",
    "\n",
    "1. Make sure RSS feeds are enabled on your blog.  Instructions for how to do this are in [the Quarto Documentation](https://quarto.org/docs/websites/website-blog.html#rss-feed)\n",
    "1. [Create a MailerLite account](https://www.mailerlite.com/signup)\n",
    "1. Once you have an account and are logged in [Create an RSS Campaign](https://dashboard.mailerlite.com/campaigns/create).  You will need to fill in some information, including the URL of your RSS feed.  It should be a URL that ends with `.xml`.\n",
    "1. On the content page, choose start from scratch (free tier) or select a template (paid) and design your email that will go out\n",
    "1. Select All Active Subscribers to send to. \n",
    "1. Continue through to schedule\n",
    ":::\n",
    "\n",
    ":::{.callout-important}\n",
    "When you create an RSS campaign there are templates that can be used in the content tab for designing this email.  These are paid features that you get for free for the first 30 days.  Only use the templates if you intend to pay as they are not included in the free plan.\n",
    ":::"
   ]
  },
  {
   "cell_type": "markdown",
   "id": "cf1e4970-be5a-4997-b61c-23f6d7a9dfa4",
   "metadata": {},
   "source": [
    ":::{.callout-tip}\n",
    "\n",
    " You can create individual subscriber groups to have different campaigns go to different groups to give subscribers more options.  [Example here](https://isaac-flath.tech/blog.html)\n",
    " \n",
    ":::"
   ]
  },
  {
   "cell_type": "markdown",
   "id": "4e784fe1-4286-4d7d-b3c8-c7d15df1e068",
   "metadata": {},
   "source": [
    "Now that the campaign is set up, we need to create the widget that allows users to subscribe to the blog.  In Quarto, this is defined in the `subscribe.html` file.\n",
    "\n",
    ":::{.callout-note}\n",
    "\n",
    "## Create subscribe.html\n",
    "\n",
    "1. [Create an embedded form](https://dashboard.mailerlite.com/forms/create?type=embedded)\n",
    "1. Use the GUI editor to style your embedded form!\n",
    "1. Once you created the form it will take you to that forms `Overview` page.  Scroll down to look for the `Embed form into your website` section\n",
    "1. In that section select `HTML Code` and copy the code provided\n",
    "1. Create a paste this code into a `subscribe.html` file at the top level of your blog's directory\n",
    ":::"
   ]
  },
  {
   "cell_type": "markdown",
   "id": "8f7a8af3-c515-47a7-b3d7-386e7b6a02c8",
   "metadata": {},
   "source": [
    ":::{.callout-note}\n",
    "\n",
    "## Modify _quarto.yml\n",
    "\n",
    "Add the `subscribe.html` file to your `_quarto.yml` file by adding it to the `margin-header` attribute.  This option will look like this in your `_quarto.yml` file.\n",
    "\n",
    "```yaml\n",
    "website:\n",
    "  # (additional metadata excluded for brevity)\n",
    "  margin-header: subscribe.html\n",
    "```\n",
    ":::"
   ]
  },
  {
   "cell_type": "markdown",
   "id": "6eab6640-9205-4b2a-b172-b83d953e1de6",
   "metadata": {},
   "source": [
    "# Conclusion\n",
    "\n",
    "That is all it takes to get subscriptions working on your blog with MailerLite!  Everything you just set up is editable so if you don't like how the email or the subscription widget looks, you can go in and edit your templates."
   ]
  },
  {
   "cell_type": "code",
   "execution_count": null,
   "id": "910ceca6-0b55-4679-93a5-fefbe0f7fea1",
   "metadata": {},
   "outputs": [],
   "source": []
  }
 ],
 "metadata": {
  "kernelspec": {
   "display_name": "Python 3 (ipykernel)",
   "language": "python",
   "name": "python3"
  }
 },
 "nbformat": 4,
 "nbformat_minor": 5
}
